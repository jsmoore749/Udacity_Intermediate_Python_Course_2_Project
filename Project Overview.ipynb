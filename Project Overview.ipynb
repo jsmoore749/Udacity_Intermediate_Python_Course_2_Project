{
 "cells": [
  {
   "cell_type": "markdown",
   "id": "bc9ef218",
   "metadata": {},
   "source": [
    "Overview\n",
    "\n",
    "At a high-level, you'll create Python code that implements a command-line tool to inspect and query a dataset of NEOs and their close approaches to Earth.\n",
    "\n",
    "Concretely, you'll have to read data from both a CSV file and a JSON file, convert that data into structured Python objects, perform filtering operations on the data, limit the size of the result set, and write the results to a file in a structured format, such as CSV or JSON.\n",
    "\n",
    "When complete, you'll be able to inspect the properties of the near-Earth objects in the data set and query the data set of close approaches to Earth using any combination of the following filters:\n",
    "\n",
    "    Occurs on a given date.\n",
    "    Occurs on or after a given start date.\n",
    "    Occurs on or before a given end date.\n",
    "    Approaches Earth at a distance of at least (or at most) X astrononical units.\n",
    "    Approaches Earth at a relative velocity of at least (or at most) Y kilometers per second.\n",
    "    Has a diameter that is at least as large as (or at least as small as) Z kilometers.\n",
    "    Is marked by NASA as potentially hazardous (or not)."
   ]
  }
 ],
 "metadata": {
  "language_info": {
   "name": "python"
  }
 },
 "nbformat": 4,
 "nbformat_minor": 5
}
